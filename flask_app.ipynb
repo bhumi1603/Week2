{
 "cells": [
  {
   "cell_type": "code",
   "execution_count": 18,
   "metadata": {},
   "outputs": [
    {
     "name": "stdout",
     "output_type": "stream",
     "text": [
      "✅ Decision Tree model loaded successfully!\n",
      " * Serving Flask app '__main__'\n",
      " * Debug mode: on\n"
     ]
    },
    {
     "name": "stderr",
     "output_type": "stream",
     "text": [
      "WARNING: This is a development server. Do not use it in a production deployment. Use a production WSGI server instead.\n",
      " * Running on http://127.0.0.1:5000\n",
      "Press CTRL+C to quit\n",
      " * Restarting with watchdog (windowsapi)\n"
     ]
    },
    {
     "ename": "SystemExit",
     "evalue": "1",
     "output_type": "error",
     "traceback": [
      "An exception has occurred, use %tb to see the full traceback.\n",
      "\u001b[1;31mSystemExit\u001b[0m\u001b[1;31m:\u001b[0m 1\n"
     ]
    },
    {
     "name": "stderr",
     "output_type": "stream",
     "text": [
      "C:\\Users\\LENOVO\\anaconda3\\Lib\\site-packages\\IPython\\core\\interactiveshell.py:3585: UserWarning: To exit: use 'exit', 'quit', or Ctrl-D.\n",
      "  warn(\"To exit: use 'exit', 'quit', or Ctrl-D.\", stacklevel=1)\n"
     ]
    }
   ],
   "source": [
    "# %%\n",
    "import os\n",
    "from flask import Flask, jsonify, request\n",
    "from flask_cors import CORS\n",
    "import sys\n",
    "import joblib\n",
    "from predictor import  my_aqi_predictor\n",
    "# Load Decision Tree model directly without path complications\n",
    "try:\n",
    "    # Try to load the model from common locations\n",
    "    model_path = '../decisionTree.pkl'  # Adjust this path if needed\n",
    "    decision_tree_model = joblib.load(model_path)\n",
    "    print(\"✅ Decision Tree model loaded successfully!\")\n",
    "except Exception as e:\n",
    "    print(f\"❌ Error loading model: {e}\")\n",
    "    print(\"⚠️ Using fallback prediction\")\n",
    "    decision_tree_model = None\n",
    "\n",
    "app = Flask(__name__)\n",
    "CORS(app)\n",
    "\n",
    "# load model once (better performance)\n",
    "predictor =  my_aqi_predictor()\n",
    "\n",
    "@app.route(\"/aqi/\", methods=['GET'])\n",
    "def return_aqi():\n",
    "    try:\n",
    "        # get query parameters\n",
    "        PM25 = request.args.get('PM25')\n",
    "        PM10 = request.args.get('PM10')\n",
    "        CO = request.args.get('CO')\n",
    "        NO2 = request.args.get('NO2')\n",
    "        O3 = request.args.get('O3')\n",
    "        NH3 = request.args.get('NH3')\n",
    "        SO2 = request.args.get('SO2')\n",
    "        TEMPERATURE = request.args.get('TEMPERATURE')\n",
    "        ALTITUDE = request.args.get('ALTITUDE')\n",
    "        HUMIDITY = request.args.get('HUMIDITY')\n",
    "        Day = request.args.get('Day')\n",
    "        Month = request.args.get('Month')\n",
    "        Year = request.args.get('Year')\n",
    "        Weekday = request.args.get('Weekday')\n",
    "        Hour = request.args.get('Hour')\n",
    "\n",
    "        # run prediction\n",
    "        AQI = predictor.predict(PM25, PM10, CO, NO2, O3, NH3, SO2,\n",
    "                                TEMPERATURE, ALTITUDE, HUMIDITY,\n",
    "                                Year, Month, Day, Hour, Weekday)\n",
    "\n",
    "        return jsonify({\n",
    "            'model': 'DecisionTree',\n",
    "            'aqi': AQI\n",
    "        })\n",
    "    except Exception as e:\n",
    "        return jsonify({'error': str(e)})\n",
    "\n",
    "@app.route(\"/\", methods=['GET'])\n",
    "def default():\n",
    "    return \"<h1> Welcome to AQI predictor </h1>\"\n",
    "\n",
    "if __name__ == \"__main__\":\n",
    "    app.run(debug=True)"
   ]
  },
  {
   "cell_type": "code",
   "execution_count": null,
   "metadata": {},
   "outputs": [],
   "source": []
  }
 ],
 "metadata": {
  "kernelspec": {
   "display_name": "Python 3 (ipykernel)",
   "language": "python",
   "name": "python3"
  },
  "language_info": {
   "codemirror_mode": {
    "name": "ipython",
    "version": 3
   },
   "file_extension": ".py",
   "mimetype": "text/x-python",
   "name": "python",
   "nbconvert_exporter": "python",
   "pygments_lexer": "ipython3",
   "version": "3.13.5"
  }
 },
 "nbformat": 4,
 "nbformat_minor": 4
}
