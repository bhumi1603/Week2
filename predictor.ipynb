{
 "cells": [
  {
   "cell_type": "code",
   "execution_count": 4,
   "metadata": {},
   "outputs": [],
   "source": [
    "import pickle\n",
    "import numpy as np\n",
    "import os\n",
    "\n",
    "class my_aqi_predictor:\n",
    "    def __init__(self):\n",
    "        # Path to the trained Decision Tree model\n",
    "        self.model_path = os.path.join(os.path.dirname(__file__), '../decisionTree.pkl')\n",
    "\n",
    "    def deserialize(self):\n",
    "        \"\"\"Load the trained Decision Tree model from pickle file.\"\"\"\n",
    "        with open(self.model_path, 'rb') as handle:\n",
    "            model = pickle.load(handle)\n",
    "        return model\n",
    "\n",
    "    def predict(self, PM25, PM10, CO, NO2, O3, NH3, SO2, TEMPERATURE, ALTITUDE, HUMIDITY, Year, Month, Day, Hour):\n",
    "        \"\"\"\n",
    "        Predict AQI using the trained Decision Tree model.\n",
    "\n",
    "        Parameters:\n",
    "        PM25, PM10, CO, NO2, O3, NH3, SO2, TEMPRATURE, ALTITUDE, HUMIDITY, Year, Month, Day, Hour\n",
    "        \"\"\"\n",
    "        model = self.deserialize()\n",
    "        \n",
    "        # Make prediction with 14 features (exclude Weekday)\n",
    "        features = np.array([[PM25, PM10, CO, NO2, O3, NH3, SO2, TEMPERATURE, ALTITUDE, HUMIDITY,\n",
    "                              Year, Month, Day, Hour]])\n",
    "        \n",
    "        prediction = model.predict(features)\n",
    "        return prediction\n"
   ]
  },
  {
   "cell_type": "code",
   "execution_count": null,
   "metadata": {},
   "outputs": [],
   "source": []
  }
 ],
 "metadata": {
  "kernelspec": {
   "display_name": "Python 3 (ipykernel)",
   "language": "python",
   "name": "python3"
  },
  "language_info": {
   "codemirror_mode": {
    "name": "ipython",
    "version": 3
   },
   "file_extension": ".py",
   "mimetype": "text/x-python",
   "name": "python",
   "nbconvert_exporter": "python",
   "pygments_lexer": "ipython3",
   "version": "3.13.5"
  }
 },
 "nbformat": 4,
 "nbformat_minor": 4
}
